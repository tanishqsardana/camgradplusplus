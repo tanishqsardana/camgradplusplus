{
 "cells": [
  {
   "cell_type": "code",
   "execution_count": null,
   "id": "73275a80",
   "metadata": {},
   "outputs": [],
   "source": [
    "def generate_cam(input_model, image, layer_name='block5_conv3', H=224, W=224):\n",
    "    \n",
    "    cls = np.argmax(input_model.predict(image)) # Obtain the predicted class\n",
    "    conv_output = input_model.get_layer(layer_name).output #Get the weights of the last output layer\n",
    "    \n",
    "    last_conv_layer_model = keras.Model(input_model.inputs, conv_output) #Create a model with the last output layer    \n",
    "    class_weights = input_model.get_layer(layer_name).get_weights()[0] # Get the weights of the output layer\\\n",
    "    class_weights = class_weights[0,:,:,:]\n",
    "    class_weights = np.mean(class_weights, axis=(0, 1))\n",
    "    \n",
    "    \n",
    "    last_conv_output = last_conv_layer_model.predict(image) #The feature map output from last output layer\n",
    "    last_conv_output = last_conv_output[0, :]\n",
    "    cam = np.dot(last_conv_output, class_weights)\n",
    "    \n",
    "    \n",
    "    cam = zoom(cam, H/cam.shape[0]) #Spatial Interpolation/zooming to image size\n",
    "    cam = cam / np.max(cam) #Normalizing the gradcam\n",
    "    \n",
    "    return cam\n"
   ]
  },
  {
   "cell_type": "code",
   "execution_count": null,
   "id": "b7399438",
   "metadata": {},
   "outputs": [],
   "source": [
    "def grad_cam(input_model, image, layer_name='block5_conv3',H=224,W=224):\n",
    "    \n",
    "    cls = np.argmax(input_model.predict(image)) #Get the predicted class\n",
    "    y_c = input_model.output[0, cls] #Probability Score\n",
    "    conv_output = input_model.get_layer(layer_name).output #Tensor of the last layer of cnn\n",
    "    grads = K.gradients(y_c, conv_output)[0] #Gradients of the predicted class wrt conv_output layer\n",
    "    \n",
    "    get_output = K.function([input_model.input], [conv_output, grads]) \n",
    "    output, grads_val = get_output([image]) #Gives output of image till conv_output layer and the gradient values at that level\n",
    "    output, grads_val = output[0, :], grads_val[0, :, :, :]\n",
    "    \n",
    "    \n",
    "    weights = np.mean(grads_val, axis=(0, 1)) #Mean of gradients which acts as our weights\n",
    "    cam = np.dot(output, weights) #Grad-CAM output\n",
    "    \n",
    "    cam = np.maximum(cam, 0) #Applying Relu\n",
    "    cam = zoom(cam,H/cam.shape[0]) #Spatial Interpolation/zooming to image size\n",
    "    cam = cam / cam.max() #Normalizing the gradcam\n",
    "    \n",
    "    return cam"
   ]
  },
  {
   "cell_type": "code",
   "execution_count": null,
   "id": "8597ba41",
   "metadata": {},
   "outputs": [],
   "source": [
    "def grad_cam_plus(input_model, image, layer_name='block5_conv3',H=224,W=224):\n",
    "    \n",
    "    cls = np.argmax(input_model.predict(image))\n",
    "    y_c = input_model.output[0, cls]\n",
    "    conv_output = input_model.get_layer(layer_name).output\n",
    "    grads = K.gradients(y_c, conv_output)[0]\n",
    "    \n",
    "    first = K.exp(y_c)*grads #Variables used to calculate first second and third gradients\n",
    "    second = K.exp(y_c)*grads*grads\n",
    "    third = K.exp(y_c)*grads*grads*grads\n",
    "\n",
    "    #Gradient calculation\n",
    "    get_output = K.function([input_model.input], [y_c,first,second,third, conv_output, grads])\n",
    "    y_c, conv_first_grad, conv_second_grad,conv_third_grad, conv_output, grads_val = get_output([img])\n",
    "    global_sum = np.sum(conv_output[0].reshape((-1,conv_first_grad[0].shape[2])), axis=0)\n",
    "\n",
    "    #Used to calculate the alpha values for each spatial location\n",
    "    alpha_num = conv_second_grad[0]\n",
    "    alpha_denom = conv_second_grad[0]*2.0 + conv_third_grad[0]*global_sum.reshape((1,1,conv_first_grad[0].shape[2]))\n",
    "    alpha_denom = np.where(alpha_denom != 0.0, alpha_denom, np.ones(alpha_denom.shape))\n",
    "    alphas = alpha_num/alpha_denom\n",
    "    \n",
    "    #Calculating the weights and alpha's which is the scale at which we multiply the weights with more importance\n",
    "    weights = np.maximum(conv_first_grad[0], 0.0)\n",
    "    alpha_normalization_constant = np.sum(np.sum(alphas, axis=0),axis=0)\n",
    "    alphas /= alpha_normalization_constant.reshape((1,1,conv_first_grad[0].shape[2])) #Normalizing alpha\n",
    "    \n",
    "    #Weights with alpha multiplied to get spatial importance\n",
    "    deep_linearization_weights = np.sum((weights*alphas).reshape((-1,conv_first_grad[0].shape[2])),axis=0)\n",
    "    \n",
    "    grad_CAM_map = np.sum(deep_linearization_weights*conv_output[0], axis=2) #Grad-CAM++ map\n",
    "    cam = np.maximum(grad_CAM_map, 0)\n",
    "    cam = zoom(cam,H/cam.shape[0])\n",
    "    cam = cam / np.max(cam) \n",
    "    \n",
    "    return cam"
   ]
  }
 ],
 "metadata": {
  "kernelspec": {
   "display_name": "Python 3 (ipykernel)",
   "language": "python",
   "name": "python3"
  },
  "language_info": {
   "codemirror_mode": {
    "name": "ipython",
    "version": 3
   },
   "file_extension": ".py",
   "mimetype": "text/x-python",
   "name": "python",
   "nbconvert_exporter": "python",
   "pygments_lexer": "ipython3",
   "version": "3.9.13"
  },
  "vscode": {
   "interpreter": {
    "hash": "dd6cb01586f098be193a47fa78e5861c4d8c34153aa05d2f52801f084056193a"
   }
  }
 },
 "nbformat": 4,
 "nbformat_minor": 5
}
